{
  "nbformat": 4,
  "nbformat_minor": 0,
  "metadata": {
    "colab": {
      "name": "robust_mnist.ipynb",
      "version": "0.3.2",
      "provenance": [],
      "collapsed_sections": [],
      "include_colab_link": true
    },
    "kernelspec": {
      "name": "python2",
      "display_name": "Python 2"
    },
    "accelerator": "GPU"
  },
  "cells": [
    {
      "cell_type": "markdown",
      "metadata": {
        "id": "view-in-github",
        "colab_type": "text"
      },
      "source": [
        "[View in Colaboratory](https://colab.research.google.com/github/ZacCranko/robustlearningexperiments/blob/master/robust_mnist.ipynb)"
      ]
    },
    {
      "metadata": {
        "id": "dbQN3hcoOzqo",
        "colab_type": "code",
        "colab": {
          "base_uri": "https://localhost:8080/",
          "height": 85
        },
        "outputId": "c0f62f0f-9da8-4f4c-fe75-83479427913f"
      },
      "cell_type": "code",
      "source": [
        "from tensorflow.examples.tutorials.mnist import input_data\n",
        "mnist = input_data.read_data_sets('MNIST_data', one_hot=True)\n",
        "\n",
        "import tensorflow as tf\n",
        "\n",
        "x = tf.placeholder(tf.float32, shape=[None, 784])\n",
        "y_ = tf.placeholder(tf.float32, shape=[None, 10])\n",
        "\n",
        "def weight_variable(shape):\n",
        "  initial = tf.truncated_normal(shape, stddev=0.1)\n",
        "  return tf.Variable(initial)\n",
        "\n",
        "def bias_variable(shape):\n",
        "  initial = tf.constant(0.1, shape=shape)\n",
        "  return tf.Variable(initial)\n",
        "\n",
        "def conv2d(x, W):\n",
        "  return tf.nn.conv2d(x, W, strides=[1, 1, 1, 1], padding='SAME')\n",
        "\n",
        "def max_pool_2x2(x):\n",
        "  return tf.nn.max_pool(x, ksize=[1, 2, 2, 1],\n",
        "                        strides=[1, 2, 2, 1], padding='SAME')\n",
        "\n",
        "# Copyright 2018 Google LLC.\n",
        "# SPDX-License-Identifier: Apache-2.0\n",
        "def power_iterate_conv(\n",
        "  weights, strides, padding, input_shape, output_shape, num_iter, u=None):\n",
        "  \"\"\"Perform power iteration for a convolutional layer.\"\"\"\n",
        "  \n",
        "  with tf.variable_scope(None, default_name='power_iteration'):\n",
        "    u_var = tf.get_variable(\n",
        "       'u_conv', [1] + map(int, output_shape[1:]),\n",
        "       initializer=tf.random_normal_initializer(),\n",
        "       trainable=False)\n",
        "    u = u_var\n",
        "    \n",
        "    for _ in xrange(num_iter):\n",
        "      v = tf.nn.conv2d_transpose(\n",
        "         u, weights, [1] + map(int, input_shape[1:]), strides, padding)\n",
        "      v /= tf.sqrt(tf.maximum(2 * tf.nn.l2_loss(v), 1e-12))\n",
        "      u = tf.nn.conv2d(v, weights, strides, padding)\n",
        "      u /= tf.sqrt(tf.maximum(2 * tf.nn.l2_loss(u), 1e-12))\n",
        "      \n",
        "    tf.add_to_collection(tf.GraphKeys.UPDATE_OPS, tf.assign(u_var, u))\n",
        "    \n",
        "    return tf.reduce_sum(u * tf.nn.conv2d(v, weights, strides, padding))\n",
        "  \n",
        "def power_iterate(weights, num_iter, u=None):\n",
        "  \"\"\"Perform power iteration for a fully connected layer.\"\"\"\n",
        "  output_shape, input_shape = weights.get_shape().as_list()\n",
        "\n",
        "  with tf.variable_scope(None, default_name='power_iteration'):\n",
        "    u_var = tf.get_variable(\n",
        "       'u_conv',  map(int, [output_shape]) + [1],\n",
        "       initializer=tf.random_normal_initializer(),\n",
        "       trainable=False)\n",
        "    u = u_var\n",
        "\n",
        "    for _ in xrange(num_iter):\n",
        "      v = tf.matmul(weights, u, transpose_a=True)\n",
        "      v /= tf.sqrt(tf.maximum(2 * tf.nn.l2_loss(v), 1e-12))\n",
        "      u = tf.matmul(weights, v)\n",
        "      u /= tf.sqrt(tf.maximum(2 * tf.nn.l2_loss(u), 1e-12))\n",
        "\n",
        "    tf.add_to_collection(tf.GraphKeys.UPDATE_OPS, tf.assign(u_var, u))\n",
        "\n",
        "    return tf.reduce_sum(u * tf.matmul(weights, v))"
      ],
      "execution_count": 139,
      "outputs": [
        {
          "output_type": "stream",
          "text": [
            "Extracting MNIST_data/train-images-idx3-ubyte.gz\n",
            "Extracting MNIST_data/train-labels-idx1-ubyte.gz\n",
            "Extracting MNIST_data/t10k-images-idx3-ubyte.gz\n",
            "Extracting MNIST_data/t10k-labels-idx1-ubyte.gz\n"
          ],
          "name": "stdout"
        }
      ]
    },
    {
      "metadata": {
        "id": "Ly6nCkYy7Lbb",
        "colab_type": "code",
        "colab": {}
      },
      "cell_type": "code",
      "source": [
        "W_conv1 = weight_variable([5, 5, 1, 32])\n",
        "b_conv1 = bias_variable([32])\n",
        "x_image = tf.reshape(x, [-1, 28, 28, 1])\n",
        "h_conv1 = tf.nn.relu(conv2d(x_image, W_conv1) + b_conv1)\n",
        "h_pool1 = max_pool_2x2(h_conv1)\n",
        "\n",
        "W_conv2 = weight_variable([5, 5, 32, 64])\n",
        "b_conv2 = bias_variable([64])\n",
        "h_conv2 = tf.nn.relu(conv2d(h_pool1, W_conv2) + b_conv2)\n",
        "h_pool2 = max_pool_2x2(h_conv2)\n",
        "\n",
        "W_fc1 = weight_variable([7 * 7 * 64, 1024])\n",
        "b_fc1 = bias_variable([1024])\n",
        "\n",
        "h_pool2_flat = tf.reshape(h_pool2, [-1, 7*7*64])\n",
        "h_fc1 = tf.nn.relu(tf.matmul(h_pool2_flat, W_fc1) + b_fc1)\n",
        "\n",
        "keep_prob  = tf.placeholder(tf.float32)\n",
        "h_fc1_drop = tf.nn.dropout(h_fc1, keep_prob)\n",
        "\n",
        "W_fc2 = weight_variable([1024, 10])\n",
        "b_fc2 = bias_variable([10])\n",
        "\n",
        "y_conv = tf.matmul(h_fc1_drop, W_fc2) + b_fc2\n",
        "\n",
        "lip = \\\n",
        "  1/4 * power_iterate_conv(W_conv1, [1,1,1,1], 'SAME', x_image.get_shape(), h_conv1.get_shape(), 5) ** 4 +\\\n",
        "  1/4 * power_iterate_conv(W_conv2, [1,1,1,1], 'SAME', h_pool1.get_shape(), h_conv2.get_shape(), 5) ** 4 +\\\n",
        "  1/4 * power_iterate(W_fc1, 5) ** 4 +\\\n",
        "  1/4 * power_iterate(W_fc2, 5) ** 4"
      ],
      "execution_count": 0,
      "outputs": []
    },
    {
      "metadata": {
        "id": "tt7zH7HX8cAS",
        "colab_type": "code",
        "colab": {
          "base_uri": "https://localhost:8080/",
          "height": 374
        },
        "outputId": "9eb5e452-fb9d-43fe-d7f9-d96f09274af1"
      },
      "cell_type": "code",
      "source": [
        "cross_entropy = tf.reduce_mean(\n",
        "    tf.nn.softmax_cross_entropy_with_logits(labels=y_, logits=y_conv)) + lip\n",
        "train_step = tf.train.AdamOptimizer(1e-4).minimize(cross_entropy)\n",
        "correct_prediction = tf.equal(tf.argmax(y_conv, 1), tf.argmax(y_, 1))\n",
        "accuracy = tf.reduce_mean(tf.cast(correct_prediction, tf.float32))\n",
        "\n",
        "with tf.Session() as sess:\n",
        "  sess.run(tf.global_variables_initializer())\n",
        "  for i in range(2000):\n",
        "    batch = mnist.train.next_batch(50)\n",
        "    if i % 100 == 0:\n",
        "      train_robust_crossent = cross_entropy.eval(feed_dict={\n",
        "          x: batch[0], y_: batch[1], keep_prob: 1.0})\n",
        "      train_accuracy = accuracy.eval(feed_dict={\n",
        "          x: batch[0], y_: batch[1], keep_prob: 1.0})\n",
        "      print('step %d, training accuracy %g, training robust crossent %g' % (i, train_accuracy, train_robust_crossent))\n",
        "    train_step.run(feed_dict={x: batch[0], y_: batch[1], keep_prob: 0.5})\n",
        "\n",
        "  print('test accuracy %g' % accuracy.eval(feed_dict={\n",
        "      x: mnist.test.images, y_: mnist.test.labels, keep_prob: 1.0}))"
      ],
      "execution_count": 145,
      "outputs": [
        {
          "output_type": "stream",
          "text": [
            "step 0, training accuracy 0.08, training robust crossent 7.31238\n",
            "step 100, training accuracy 0.88, training robust crossent 0.558542\n",
            "step 200, training accuracy 0.92, training robust crossent 0.356821\n",
            "step 300, training accuracy 0.94, training robust crossent 0.187732\n",
            "step 400, training accuracy 0.98, training robust crossent 0.129108\n",
            "step 500, training accuracy 0.92, training robust crossent 0.306784\n",
            "step 600, training accuracy 0.98, training robust crossent 0.235584\n",
            "step 700, training accuracy 1, training robust crossent 0.076114\n",
            "step 800, training accuracy 0.92, training robust crossent 0.297581\n",
            "step 900, training accuracy 1, training robust crossent 0.0558992\n",
            "step 1000, training accuracy 0.96, training robust crossent 0.219842\n",
            "step 1100, training accuracy 0.92, training robust crossent 0.274248\n",
            "step 1200, training accuracy 0.94, training robust crossent 0.239046\n",
            "step 1300, training accuracy 0.98, training robust crossent 0.0755069\n",
            "step 1400, training accuracy 0.96, training robust crossent 0.0955489\n",
            "step 1500, training accuracy 1, training robust crossent 0.0352241\n",
            "step 1600, training accuracy 1, training robust crossent 0.0157276\n",
            "step 1700, training accuracy 1, training robust crossent 0.0671017\n",
            "step 1800, training accuracy 0.98, training robust crossent 0.0355211\n",
            "step 1900, training accuracy 0.94, training robust crossent 0.161998\n",
            "test accuracy 0.9751\n"
          ],
          "name": "stdout"
        }
      ]
    },
    {
      "metadata": {
        "id": "9qpF16_hn27-",
        "colab_type": "code",
        "colab": {}
      },
      "cell_type": "code",
      "source": [
        ""
      ],
      "execution_count": 0,
      "outputs": []
    }
  ]
}